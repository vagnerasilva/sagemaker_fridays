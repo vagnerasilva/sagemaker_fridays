{
 "cells": [
  {
   "cell_type": "code",
   "execution_count": null,
   "metadata": {},
   "outputs": [],
   "source": [
    "%%sh\n",
    "pip -q install sagemaker --upgrade"
   ]
  },
  {
   "cell_type": "code",
   "execution_count": null,
   "metadata": {},
   "outputs": [],
   "source": [
    "import sagemaker\n",
    "\n",
    "print(sagemaker.__version__)\n",
    "\n",
    "session = sagemaker.Session()\n",
    "bucket = session.default_bucket()"
   ]
  },
  {
   "cell_type": "markdown",
   "metadata": {},
   "source": [
    "### Define channels"
   ]
  },
  {
   "cell_type": "code",
   "execution_count": null,
   "metadata": {},
   "outputs": [],
   "source": [
    "# Fully replicated, Pipe Mode\n",
    "\n",
    "prefix = 'imagenet-split'\n",
    "s3_train_path = 's3://{}/{}/input/training/'.format(bucket, prefix)\n",
    "s3_val_path   = 's3://{}/{}/input/validation/'.format(bucket, prefix)\n",
    "s3_output     = 's3://{}/{}/output/'.format(bucket, prefix)\n",
    "\n",
    "from sagemaker.inputs import ShuffleConfig\n",
    "\n",
    "train_data = sagemaker.TrainingInput(s3_train_path, \n",
    "                      distribution='FullyReplicated',\n",
    "                      shuffle_config=ShuffleConfig(59),\n",
    "                      content_type='application/x-recordio',\n",
    "                      s3_data_type='S3Prefix',\n",
    "                      input_mode='Pipe')\n",
    "\n",
    "validation_data = sagemaker.TrainingInput(s3_val_path, \n",
    "                           distribution='FullyReplicated',\n",
    "                           content_type='application/x-recordio', \n",
    "                           s3_data_type='S3Prefix',\n",
    "                           input_mode='Pipe')"
   ]
  },
  {
   "cell_type": "code",
   "execution_count": null,
   "metadata": {},
   "outputs": [],
   "source": [
    "print(s3_train_path)\n",
    "print(s3_val_path)\n",
    "print(s3_output)"
   ]
  },
  {
   "cell_type": "code",
   "execution_count": null,
   "metadata": {},
   "outputs": [],
   "source": [
    "s3_channels = {'train': train_data, 'validation': validation_data}"
   ]
  },
  {
   "cell_type": "markdown",
   "metadata": {},
   "source": [
    "### Get the name of the image classification algorithm in our region"
   ]
  },
  {
   "cell_type": "code",
   "execution_count": null,
   "metadata": {},
   "outputs": [],
   "source": [
    "region    = session.boto_session.region_name    \n",
    "container = sagemaker.image_uris.retrieve('image-classification', region)\n",
    "\n",
    "print(container)"
   ]
  },
  {
   "cell_type": "markdown",
   "metadata": {},
   "source": [
    "### Configure the training job"
   ]
  },
  {
   "cell_type": "markdown",
   "metadata": {},
   "source": [
    "A quick test shows that a single p3.2xlarge instance with batch size set to 128 will crunch through the dataset at about **335 images/second**. \n",
    "\n",
    "As we have about **1,281,167 images**, we can expect one epoch to last about **3824 seconds** (about 1h and 4 minutes)...\n",
    "\n",
    "An ml.p3.2xlarge costs $3.825 per hour in us-east-1. \n",
    "\n",
    "[ https://aws.amazon.com/sagemaker/pricing/ ]\n",
    "\n",
    "Assuming that we need to train for 150 epochs to get decent accuracy:\n",
    "- Duration: (3824/3600)*150 = 158 hours (about 6.5 days)\n",
    "- Cost: 158 * 3.825 = $573\n",
    "\n",
    "6.5 days is probably not acceptable from a business perspective. \n",
    "Let's try to speed our job with a multi-GPU instance."
   ]
  },
  {
   "cell_type": "code",
   "execution_count": null,
   "metadata": {},
   "outputs": [],
   "source": [
    "role = sagemaker.get_execution_role()\n",
    "\n",
    "ic = sagemaker.estimator.Estimator(\n",
    "    container,\n",
    "    role,\n",
    "    instance_count=1, \n",
    "    instance_type='ml.p3dn.24xlarge',   # 8 GPUs\n",
    "    output_path=s3_output,\n",
    "    volume_size=1\n",
    ")"
   ]
  },
  {
   "cell_type": "markdown",
   "metadata": {},
   "source": [
    "### Set algorithm parameters"
   ]
  },
  {
   "cell_type": "code",
   "execution_count": null,
   "metadata": {},
   "outputs": [],
   "source": [
    "ic.set_hyperparameters(\n",
    "    num_layers=50,                 # Train a Resnet-50 model\n",
    "    use_pretrained_model=0,        # Train from scratch\n",
    "    num_classes=1000,              # ImageNet has 1000 classes\n",
    "    num_training_samples=1281167,  # Number of training samples\n",
    "    mini_batch_size=1024,          # 8 GPUs * 128 = 1024\n",
    "    learning_rate=0.4,\n",
    "    epochs=2,\n",
    "    augmentation_type='crop',\n",
    "    top_k=3,\n",
    "    kv_store='dist_sync',          # gradient updates are synchronized after each batch\n",
    ")\n"
   ]
  },
  {
   "cell_type": "code",
   "execution_count": null,
   "metadata": {},
   "outputs": [],
   "source": [
    "ic.fit(inputs=s3_channels)"
   ]
  },
  {
   "cell_type": "markdown",
   "metadata": {},
   "source": [
    "An ml.p3dn.24xlarge costs $35.894 per hour (us-east-1)\n",
    "\n",
    "[ https://aws.amazon.com/sagemaker/pricing/ ]\n",
    "\n",
    "Time per epoch: 727 seconds\n",
    "\n",
    "For 150 epochs:\n",
    "- Duration: (865/3600) * 150 = 30.3 hours (1.25 day)\n",
    "- Cost: 30.3 * 35.894 = $1,087\n",
    "\n",
    "We go 5x faster, but at almost 2x the cost. Let's start optimizing this."
   ]
  },
  {
   "cell_type": "markdown",
   "metadata": {},
   "source": [
    "CloudWatch shows that total GPU memory utilization is only 300%, meaning 300/8=37.5% on each GPU. Let's bump batch size to (1024/0.375)=2730, rounded up to 2736 to be divisible by 8.\n",
    "\n",
    "A better way to understand how a training job uses the underlying infrastructure is to use the profiling capability in SageMaker Debugger. Let's run the same job and ask for a profiling report."
   ]
  },
  {
   "cell_type": "code",
   "execution_count": null,
   "metadata": {},
   "outputs": [],
   "source": [
    "# Add profiling report\n",
    "\n",
    "from sagemaker.debugger import rule_configs, Rule, ProfilerRule\n",
    "from sagemaker.debugger import ProfilerConfig, FrameworkProfile\n",
    "    \n",
    "ic = sagemaker.estimator.Estimator(\n",
    "    container,\n",
    "    role,\n",
    "    instance_count=1, \n",
    "    instance_type='ml.p3dn.24xlarge',\n",
    "    output_path=s3_output,\n",
    "    volume_size=1,\n",
    "\n",
    "    # https://docs.aws.amazon.com/sagemaker/latest/dg/debugger-built-in-rules.html\n",
    "    rules=[ \n",
    "        ProfilerRule.sagemaker(rule_configs.ProfilerReport())\n",
    "    ],\n",
    "    framework_profile_params=ProfilerConfig(\n",
    "        framework_profile_params=FrameworkProfile()\n",
    "    )\n",
    ")"
   ]
  },
  {
   "cell_type": "code",
   "execution_count": null,
   "metadata": {},
   "outputs": [],
   "source": [
    "# Same as above\n",
    "\n",
    "ic.set_hyperparameters(num_layers=50,                 # Train a Resnet-50 model\n",
    "                       use_pretrained_model=0,        # Train from scratch\n",
    "                       num_classes=1000,              # ImageNet has 1000 classes\n",
    "                       num_training_samples=1281167,  # Number of training samples\n",
    "                       mini_batch_size=2736,          \n",
    "                       learning_rate=0.4,\n",
    "                       epochs=2,\n",
    "                       kv_store='dist_sync',\n",
    "                       augmentation_type='crop',\n",
    "                       top_k=3)"
   ]
  },
  {
   "cell_type": "code",
   "execution_count": null,
   "metadata": {},
   "outputs": [],
   "source": [
    "ic.fit(inputs=s3_channels)"
   ]
  },
  {
   "cell_type": "markdown",
   "metadata": {},
   "source": [
    "Time per epoch: 758 seconds\n",
    "\n",
    "Maximizing GPU memory usage is good practice, as it keeps GPU cores as busy as possible. However, it didn't make a difference here. Maybe the cost of synchronizing gradients ?\n",
    "\n",
    "Now, let's add a second instance to scale out the training job. We also introduce Managed Spot Training."
   ]
  },
  {
   "cell_type": "code",
   "execution_count": null,
   "metadata": {},
   "outputs": [],
   "source": [
    "# Add Distributed Training and Managed Spot Training\n",
    "\n",
    "ic = sagemaker.estimator.Estimator(\n",
    "    container,\n",
    "    role,\n",
    "    instance_count=2,                 # <--------\n",
    "    instance_type='ml.p3dn.24xlarge',\n",
    "    output_path=s3_output,\n",
    "    volume_size=1,\n",
    "\n",
    "    use_spot_instances=True,          # <--------\n",
    "    max_run=3600,                     # <--------\n",
    "    max_wait=3600                     # <--------\n",
    ")"
   ]
  },
  {
   "cell_type": "code",
   "execution_count": null,
   "metadata": {},
   "outputs": [],
   "source": [
    "# Same as above\n",
    "\n",
    "ic.set_hyperparameters(num_layers=50,                 # Train a Resnet-50 model\n",
    "                       use_pretrained_model=0,        # Train from scratch\n",
    "                       num_classes=1000,              # ImageNet has 1000 classes\n",
    "                       num_training_samples=1281167,  # Number of training samples\n",
    "                       mini_batch_size=2736,          \n",
    "                       learning_rate=0.4,\n",
    "                       epochs=2,\n",
    "                       kv_store='dist_sync',\n",
    "                       augmentation_type='crop',\n",
    "                       top_k=3)"
   ]
  },
  {
   "cell_type": "code",
   "execution_count": null,
   "metadata": {},
   "outputs": [],
   "source": [
    "ic.fit(inputs=s3_channels)"
   ]
  },
  {
   "cell_type": "markdown",
   "metadata": {},
   "source": [
    "Time per epoch: 378 seconds\n",
    "\n",
    "For 150 epochs:\n",
    "- Duration: (378/3600) * 150 = 15.75 hours\n",
    "- Cost: 2 * 15.75 * 38.768 * 0.30 = $366\n",
    "\n",
    "2x speedup, 3x cheaper :)"
   ]
  },
  {
   "cell_type": "code",
   "execution_count": null,
   "metadata": {},
   "outputs": [],
   "source": [
    "# Same job with 4 instances\n",
    "\n",
    "ic = sagemaker.estimator.Estimator(\n",
    "    container,\n",
    "    role,\n",
    "    instance_count=4,                 # <--------\n",
    "    instance_type='ml.p3dn.24xlarge',\n",
    "    output_path=s3_output,\n",
    "    volume_size=1,\n",
    "    use_spot_instances=True,          \n",
    "    max_run=3600,                     \n",
    "    max_wait=3600                     \n",
    ")\n",
    "\n",
    "# Same as above\n",
    "\n",
    "ic.set_hyperparameters(num_layers=50,                 # Train a Resnet-50 model\n",
    "                       use_pretrained_model=0,        # Train from scratch\n",
    "                       num_classes=1000,              # ImageNet has 1000 classes\n",
    "                       num_training_samples=1281167,  # Number of training samples\n",
    "                       mini_batch_size=2736,          \n",
    "                       learning_rate=0.4,\n",
    "                       epochs=2,\n",
    "                       kv_store='dist_sync',\n",
    "                       augmentation_type='crop',\n",
    "                       top_k=3)\n",
    "\n",
    "ic.fit(inputs=s3_channels)"
   ]
  },
  {
   "cell_type": "markdown",
   "metadata": {},
   "source": [
    "Time per epoch: 198 seconds\n",
    "\n",
    "For 150 epochs:\n",
    "- Duration: (198/3600) * 150 = 8.25 hours\n",
    "- Cost: 4 * 8.25 * 38.768 * 0.30 = $382\n",
    "    \n",
    "2x speedup, 5% cost increase"
   ]
  },
  {
   "cell_type": "code",
   "execution_count": null,
   "metadata": {},
   "outputs": [],
   "source": [
    "# Same job with 8 instances\n",
    "\n",
    "ic = sagemaker.estimator.Estimator(\n",
    "    container,\n",
    "    role,\n",
    "    instance_count=8,                 # <-------- 64 GPUs\n",
    "                                      # 327K CUDA cores, 2TB of GPU RAM\n",
    "                                      # 8 Petaflops (!) for Fused Multiply Add matrix operations (A*B + C)\n",
    "    instance_type='ml.p3dn.24xlarge',\n",
    "    output_path=s3_output,\n",
    "    volume_size=1,\n",
    "    use_spot_instances=True,          \n",
    "    max_run=3600,                     \n",
    "    max_wait=3600                     \n",
    ")\n",
    "\n",
    "# Same as above\n",
    "\n",
    "ic.set_hyperparameters(num_layers=50,                 # Train a Resnet-50 model\n",
    "                       use_pretrained_model=0,        # Train from scratch\n",
    "                       num_classes=1000,              # ImageNet has 1000 classes\n",
    "                       num_training_samples=1281167,  # Number of training samples\n",
    "                       mini_batch_size=2736,          \n",
    "                       learning_rate=0.4,\n",
    "                       epochs=2,\n",
    "                       kv_store='dist_sync',\n",
    "                       augmentation_type='crop',\n",
    "                       top_k=3)\n",
    "\n",
    "ic.fit(inputs=s3_channels)"
   ]
  },
  {
   "cell_type": "markdown",
   "metadata": {},
   "source": [
    "Time per epoch: 99 seconds\n",
    "\n",
    "For 150 epochs:\n",
    "- Duration: (198/3600) * 150 = 4.12 hours\n",
    "- Cost: 8 * 4.12 * 38.768 * 0.30 = $383 (!)\n",
    "    \n",
    "2x speedup, same cost \\m/"
   ]
  },
  {
   "cell_type": "markdown",
   "metadata": {},
   "source": [
    "\n",
    "We started with 158 hours and a $170 spend (1 p3.2xlarge with 70% spot savings).\n",
    "\n",
    "For less than 2x the initial cost, we've accelerated our job almost 43x.\n",
    "\n",
    "We're not quite done yet with cost optimization yet, but let's train this for a little while."
   ]
  },
  {
   "cell_type": "code",
   "execution_count": null,
   "metadata": {},
   "outputs": [],
   "source": [
    "# Add debugging rules\n",
    "# Add checkpointing paths\n",
    "\n",
    "checkpoint_s3_uri = 's3://{}/{}/checkpoints/'.format(bucket, prefix)\n",
    "\n",
    "ic = sagemaker.estimator.Estimator(\n",
    "    container,\n",
    "    role,\n",
    "    instance_count=8, \n",
    "    instance_type='ml.p3dn.24xlarge',\n",
    "    output_path=s3_output,\n",
    "    volume_size=1,\n",
    "    \n",
    "    use_spot_instances=True,\n",
    "    max_run=3600,\n",
    "    max_wait=3600,\n",
    "    \n",
    "    checkpoint_s3_uri='s3://{}/{}/checkpoints/'.format(bucket, prefix), # <-----\n",
    "    checkpoint_local_path='/opt/ml/checkpoints',                        # <-----\n",
    "        \n",
    "        rules=[\n",
    "        ProfilerRule.sagemaker(rule_configs.ProfilerReport()),\n",
    "        \n",
    "        # https://docs.aws.amazon.com/sagemaker/latest/dg/debugger-built-in-rules.html\n",
    "        Rule.sagemaker(rule_configs.overfit()),\n",
    "        Rule.sagemaker(rule_configs.loss_not_decreasing()),            # <----- \n",
    "        Rule.sagemaker(rule_configs.vanishing_gradient()),             # <-----\n",
    "        Rule.sagemaker(rule_configs.exploding_tensor())                # <-----\n",
    "    ]\n",
    ")"
   ]
  },
  {
   "cell_type": "code",
   "execution_count": null,
   "metadata": {},
   "outputs": [],
   "source": [
    "# Increase epochs\n",
    "# Add early stopping\n",
    "\n",
    "ic.set_hyperparameters(num_layers=50,                 # Train a Resnet-50 model\n",
    "                       use_pretrained_model=0,        # Train from scratch\n",
    "                       num_classes=1000,              # ImageNet has 1000 classes\n",
    "                       num_training_samples=1281167,  # Number of training samples\n",
    "                       mini_batch_size=2736,\n",
    "                       \n",
    "                       optimizer='sgd',\n",
    "                       learning_rate=0.4,\n",
    "                                              \n",
    "                       #lr_scheduler_factor=0.5,          \n",
    "                       #lr_scheduler_step='30,60,90,120',  \n",
    "                       epochs=10,                      # <-----\n",
    "                       \n",
    "                       kv_store='dist_sync',\n",
    "                       augmentation_type='crop',\n",
    "                       top_k=3,\n",
    "                       \n",
    "                       #early_stopping=True,            # <-----\n",
    "                       #early_stopping_patience=10      # <-----\n",
    "                       \n",
    "                      )"
   ]
  },
  {
   "cell_type": "code",
   "execution_count": null,
   "metadata": {},
   "outputs": [],
   "source": [
    "ic.fit(inputs=s3_channels)"
   ]
  },
  {
   "cell_type": "markdown",
   "metadata": {},
   "source": [
    "### Deploy the model on a GPU instance\n",
    "\n",
    "**ml.g4dn.xlarge** is the most cost effective GPU instance.\n",
    "\n",
    "1 NVIDIA T4 GPU, 8 Teraflops FP32\n",
    "$0.736 / hour (us-east-1)"
   ]
  },
  {
   "cell_type": "code",
   "execution_count": null,
   "metadata": {},
   "outputs": [],
   "source": [
    "ic_predictor = ic.deploy(\n",
    "    initial_instance_count=1,\n",
    "    instance_type='ml.g4dn.xlarge',         \n",
    "    endpoint_name='imagenet-endpoint') "
   ]
  },
  {
   "cell_type": "markdown",
   "metadata": {},
   "source": [
    "### Deploy the model on a CPU instance accelerated with Amazon Elastic Inference\n",
    "\n",
    "Alternatively, we can also deploy on an ml.c5.xlarge instance combined with an accelerator.\n",
    "\n",
    "ml.c5.xlarge: $0.205 / hour (us-east-1)\n",
    "\n",
    "ml.eia2.medium  : 1 Teraflop FP32, $0.128 / hour (us-east-1)\n",
    "\n",
    "ml.eia2.large   : 2 Teraflops FP32, $0.240\n",
    "\n",
    "ml.eia2.xlarge : 4 Teraflops FP32, $0.340"
   ]
  },
  {
   "cell_type": "code",
   "execution_count": null,
   "metadata": {},
   "outputs": [],
   "source": [
    "ic_predictor_ei = ic.deploy(\n",
    "    initial_instance_count=1,\n",
    "    instance_type='ml.c5.xlarge',          \n",
    "    accelerator_type='ml.eia2.medium',     \n",
    "    endpoint_name='imagenet-endpoint-ei')"
   ]
  },
  {
   "cell_type": "markdown",
   "metadata": {},
   "source": [
    "### Delete endpoints"
   ]
  },
  {
   "cell_type": "code",
   "execution_count": null,
   "metadata": {},
   "outputs": [],
   "source": [
    "ic_predictor.delete_endpoint()\n",
    "ic_predictor_ei.delete_endpoint()"
   ]
  },
  {
   "cell_type": "code",
   "execution_count": null,
   "metadata": {},
   "outputs": [],
   "source": []
  }
 ],
 "metadata": {
  "instance_type": "ml.t3.medium",
  "kernelspec": {
   "display_name": "Python 3 (Data Science)",
   "language": "python",
   "name": "python3__SAGEMAKER_INTERNAL__arn:aws:sagemaker:us-east-1:081325390199:image/datascience-1.0"
  },
  "language_info": {
   "codemirror_mode": {
    "name": "ipython",
    "version": 3
   },
   "file_extension": ".py",
   "mimetype": "text/x-python",
   "name": "python",
   "nbconvert_exporter": "python",
   "pygments_lexer": "ipython3",
   "version": "3.7.10"
  }
 },
 "nbformat": 4,
 "nbformat_minor": 4
}
