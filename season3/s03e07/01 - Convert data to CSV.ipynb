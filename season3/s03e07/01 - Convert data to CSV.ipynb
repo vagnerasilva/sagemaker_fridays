{
 "cells": [
  {
   "cell_type": "markdown",
   "metadata": {},
   "source": [
    "## Convert data from JSON to CSV"
   ]
  },
  {
   "cell_type": "code",
   "execution_count": null,
   "metadata": {},
   "outputs": [],
   "source": [
    "import pandas as pd"
   ]
  },
  {
   "cell_type": "code",
   "execution_count": null,
   "metadata": {},
   "outputs": [],
   "source": [
    "# Grab JSON output from Glue job\n",
    "\n",
    "s3_uri = \n",
    "data_train_uri  = s3_uri + \n",
    "data_test_uri   = s3_uri + \n",
    "label_train_uri = s3_uri + \n",
    "label_test_uri  = s3_uri + "
   ]
  },
  {
   "cell_type": "code",
   "execution_count": null,
   "metadata": {},
   "outputs": [],
   "source": [
    "# Concatenate training data and labels\n",
    "data_train_df = pd.read_json(data_train_uri, lines=True)\n",
    "label_train_df = pd.read_json(label_train_uri, lines=True)\n",
    "train_df = pd.concat([data_train_df, label_train_df], axis=1)\n",
    "print(train_df.shape)"
   ]
  },
  {
   "cell_type": "code",
   "execution_count": null,
   "metadata": {},
   "outputs": [],
   "source": [
    "# Same for test data\n",
    "data_test_df = pd.read_json(data_test_uri, lines=True)\n",
    "label_test_df = pd.read_json(label_test_uri, lines=True)\n",
    "test_df = pd.concat([data_test_df, label_test_df], axis=1)\n",
    "print(test_df.shape)"
   ]
  },
  {
   "cell_type": "code",
   "execution_count": null,
   "metadata": {},
   "outputs": [],
   "source": [
    "# Concatenating training and test data\n",
    "dataset_df = pd.concat([train_df, test_df], axis=0)\n",
    "print(dataset_df.shape)"
   ]
  },
  {
   "cell_type": "code",
   "execution_count": null,
   "metadata": {},
   "outputs": [],
   "source": [
    "train_df.to_csv('train.csv', index=False, header=True)\n",
    "test_df.to_csv('test.csv', index=False, header=True)\n",
    "dataset_df.to_csv('dataset.csv', index=False, header=True)"
   ]
  },
  {
   "cell_type": "markdown",
   "metadata": {},
   "source": [
    "## Upload data to S3"
   ]
  },
  {
   "cell_type": "code",
   "execution_count": null,
   "metadata": {},
   "outputs": [],
   "source": [
    "import sagemaker"
   ]
  },
  {
   "cell_type": "code",
   "execution_count": null,
   "metadata": {},
   "outputs": [],
   "source": [
    "session = sagemaker.session.Session()\n",
    "bucket  = session.default_bucket()\n",
    "prefix  = 'credit-decisions-automl'"
   ]
  },
  {
   "cell_type": "code",
   "execution_count": null,
   "metadata": {},
   "outputs": [],
   "source": [
    "from sagemaker.s3 import S3Uploader\n",
    "\n",
    "train_uri = S3Uploader.upload('train.csv', 's3://{}/{}/train'.format(bucket, prefix))\n",
    "test_uri = S3Uploader.upload('test.csv', 's3://{}/{}/test'.format(bucket, prefix))\n",
    "dataset_uri = S3Uploader.upload('dataset.csv', 's3://{}/{}/dataset'.format(bucket, prefix))\n",
    "\n",
    "print(train_uri)\n",
    "print(test_uri)\n",
    "print(dataset_uri)"
   ]
  },
  {
   "cell_type": "code",
   "execution_count": null,
   "metadata": {},
   "outputs": [],
   "source": [
    "!head dataset.csv"
   ]
  },
  {
   "cell_type": "code",
   "execution_count": null,
   "metadata": {},
   "outputs": [],
   "source": []
  }
 ],
 "metadata": {
  "instance_type": "ml.t3.medium",
  "kernelspec": {
   "display_name": "Python 3 (Data Science)",
   "language": "python",
   "name": "python3__SAGEMAKER_INTERNAL__arn:aws:sagemaker:eu-west-1:470317259841:image/datascience-1.0"
  },
  "language_info": {
   "codemirror_mode": {
    "name": "ipython",
    "version": 3
   },
   "file_extension": ".py",
   "mimetype": "text/x-python",
   "name": "python",
   "nbconvert_exporter": "python",
   "pygments_lexer": "ipython3",
   "version": "3.7.6"
  }
 },
 "nbformat": 4,
 "nbformat_minor": 4
}
