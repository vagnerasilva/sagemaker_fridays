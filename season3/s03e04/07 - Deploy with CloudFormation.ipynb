{
 "cells": [
  {
   "cell_type": "markdown",
   "metadata": {},
   "source": [
    "## Deploy a model package with CloudFormation"
   ]
  },
  {
   "cell_type": "code",
   "execution_count": null,
   "metadata": {},
   "outputs": [],
   "source": [
    "import boto3\n",
    "import sagemaker\n",
    "\n",
    "sm = boto3.client('sagemaker')\n",
    "cf = boto3.client('cloudformation')\n",
    "\n",
    "role = sagemaker.get_execution_role()"
   ]
  },
  {
   "cell_type": "markdown",
   "metadata": {},
   "source": [
    "## Set up endpoint properties"
   ]
  },
  {
   "cell_type": "code",
   "execution_count": null,
   "metadata": {},
   "outputs": [],
   "source": [
    "model1_package_arn = 'MODEL_PACKAGE_ARN'\n",
    "model1_name = 'MODEL_NAME'"
   ]
  },
  {
   "cell_type": "code",
   "execution_count": null,
   "metadata": {},
   "outputs": [],
   "source": [
    "response = sm.describe_model_package(ModelPackageName=model1_package_arn)\n",
    "\n",
    "training_image = response['InferenceSpecification']['Containers'][0]['Image']\n",
    "model1_path     = response['InferenceSpecification']['Containers'][0]['ModelDataUrl']\n",
    "\n",
    "print(training_image)\n",
    "print(model1_path)"
   ]
  },
  {
   "cell_type": "markdown",
   "metadata": {},
   "source": [
    "## Create endpoint"
   ]
  },
  {
   "cell_type": "code",
   "execution_count": null,
   "metadata": {},
   "outputs": [],
   "source": [
    "with open('endpoint-one-model.yml', 'r') as f:\n",
    "\tresponse = cf.create_stack(\n",
    "        StackName='endpoint-one-model', \n",
    "\t\tTemplateBody=f.read(),\n",
    "\t\tParameters=[\n",
    "\t\t\t{'ParameterKey':'ModelName',     'ParameterValue': model1_name},\n",
    "\t\t\t{'ParameterKey':'TrainingImage', 'ParameterValue': training_image},\n",
    "\t\t\t{'ParameterKey':'ModelDataUrl',  'ParameterValue': model1_path},\n",
    "\t\t\t{'ParameterKey':'RoleArn',       'ParameterValue': role}\n",
    "        ]\n",
    "    )\n",
    "    \n",
    "print(response)"
   ]
  },
  {
   "cell_type": "code",
   "execution_count": null,
   "metadata": {},
   "outputs": [],
   "source": [
    "waiter = cf.get_waiter('stack_create_complete')\n",
    "waiter.wait(StackName='endpoint-one-model')"
   ]
  },
  {
   "cell_type": "markdown",
   "metadata": {},
   "source": [
    "## Create a change set to add a second variant"
   ]
  },
  {
   "cell_type": "code",
   "execution_count": null,
   "metadata": {},
   "outputs": [],
   "source": [
    "model2_package_arn = 'MODEL2_PACKAGE_ARN'\n",
    "model2_name = 'MODEL2_NAME'"
   ]
  },
  {
   "cell_type": "code",
   "execution_count": null,
   "metadata": {},
   "outputs": [],
   "source": [
    "response = sm.describe_model_package(ModelPackageName=model2_package_arn)\n",
    "\n",
    "model2_path = response['InferenceSpecification']['Containers'][0]['ModelDataUrl']\n",
    "\n",
    "print(model2_path)"
   ]
  },
  {
   "cell_type": "code",
   "execution_count": null,
   "metadata": {},
   "outputs": [],
   "source": [
    "with open('endpoint-two-models.yml', 'r') as f:\n",
    "    response = cf.create_change_set(\n",
    "        StackName='endpoint-one-model', \n",
    "        ChangeSetName='add-production-variant',\n",
    "        TemplateBody=f.read(),\n",
    "        Parameters=[\n",
    "            {'ParameterKey':'ModelName',           'UsePreviousValue': True},\n",
    "\t\t\t{'ParameterKey':'TrainingImage',       'UsePreviousValue': True},\n",
    "\t\t\t{'ParameterKey':'ModelDataUrl',        'UsePreviousValue': True},\n",
    "\t\t\t{'ParameterKey':'RoleArn',             'UsePreviousValue': True},\n",
    "\t\t\t{'ParameterKey':'ModelName2',          'ParameterValue': model2_name},\n",
    "            {'ParameterKey':'ModelDataUrl2',       'ParameterValue': model2_path},\n",
    "            {'ParameterKey':'ModelVariantWeight',  'ParameterValue': str(95)},\n",
    "            {'ParameterKey':'ModelVariantWeight2', 'ParameterValue': str(5)},\n",
    "        ]\n",
    "    )\n",
    "    \n",
    "print(response)"
   ]
  },
  {
   "cell_type": "code",
   "execution_count": null,
   "metadata": {},
   "outputs": [],
   "source": [
    "response = cf.execute_change_set(\n",
    "    ChangeSetName='add-production-variant',\n",
    "    StackName='endpoint-one-model'\n",
    ")\n",
    "\n",
    "print(response)"
   ]
  },
  {
   "cell_type": "code",
   "execution_count": null,
   "metadata": {},
   "outputs": [],
   "source": [
    "waiter = cf.get_waiter('stack_update_complete')\n",
    "waiter.wait(StackName='endpoint-one-model')"
   ]
  },
  {
   "cell_type": "code",
   "execution_count": null,
   "metadata": {},
   "outputs": [],
   "source": [
    "response = cf.delete_stack(StackName='endpoint-one-model')"
   ]
  },
  {
   "cell_type": "code",
   "execution_count": null,
   "metadata": {},
   "outputs": [],
   "source": []
  }
 ],
 "metadata": {
  "instance_type": "ml.t3.medium",
  "kernelspec": {
   "display_name": "Python 3 (Data Science)",
   "language": "python",
   "name": "python3__SAGEMAKER_INTERNAL__arn:aws:sagemaker:eu-west-1:470317259841:image/datascience-1.0"
  },
  "language_info": {
   "codemirror_mode": {
    "name": "ipython",
    "version": 3
   },
   "file_extension": ".py",
   "mimetype": "text/x-python",
   "name": "python",
   "nbconvert_exporter": "python",
   "pygments_lexer": "ipython3",
   "version": "3.7.6"
  }
 },
 "nbformat": 4,
 "nbformat_minor": 4
}
