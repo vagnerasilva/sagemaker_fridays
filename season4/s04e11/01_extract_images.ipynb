{
 "cells": [
  {
   "cell_type": "code",
   "execution_count": null,
   "metadata": {},
   "outputs": [],
   "source": [
    "%%sh\n",
    "mkdir -p dataset dataset/no_metastasis dataset/metastasis"
   ]
  },
  {
   "cell_type": "code",
   "execution_count": null,
   "metadata": {},
   "outputs": [],
   "source": [
    "# Cancer detection dataset\n",
    "# 14,000 color images, 96x96 pixels, 2 classes\n",
    "# https://camelyon16.grand-challenge.org/\n",
    "\n",
    "import h5py\n",
    "from PIL import Image\n",
    "\n",
    "h5f = open(\"camelyon16_tiles.h5\", \"rb\")\n",
    "f = h5py.File(h5f, \"r\")\n",
    "X = f[\"x\"][()]\n",
    "Y = f[\"y\"][()]\n",
    "\n",
    "def save_images(X,Y,n):\n",
    "    for i in range(0,n):\n",
    "        img = Image.fromarray(X[i])\n",
    "        if Y[i]==0:\n",
    "            img.save(\"dataset/no_metastasis/img\"+str(i)+\".jpeg\")\n",
    "        else:\n",
    "            img.save(\"dataset/metastasis/img\"+str(i)+\".jpeg\")\n",
    "\n",
    "save_images(X,Y,14000)"
   ]
  },
  {
   "cell_type": "code",
   "execution_count": null,
   "metadata": {},
   "outputs": [],
   "source": []
  },
  {
   "cell_type": "code",
   "execution_count": null,
   "metadata": {},
   "outputs": [],
   "source": []
  },
  {
   "cell_type": "code",
   "execution_count": null,
   "metadata": {},
   "outputs": [],
   "source": []
  }
 ],
 "metadata": {
  "instance_type": "ml.t3.medium",
  "kernelspec": {
   "display_name": "Python 3 (Data Science)",
   "language": "python",
   "name": "python3__SAGEMAKER_INTERNAL__arn:aws:sagemaker:us-east-1:081325390199:image/datascience-1.0"
  },
  "language_info": {
   "codemirror_mode": {
    "name": "ipython",
    "version": 3
   },
   "file_extension": ".py",
   "mimetype": "text/x-python",
   "name": "python",
   "nbconvert_exporter": "python",
   "pygments_lexer": "ipython3",
   "version": "3.7.10"
  }
 },
 "nbformat": 4,
 "nbformat_minor": 4
}
